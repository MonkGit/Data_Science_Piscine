{
 "cells": [
  {
   "cell_type": "markdown",
   "id": "e6d7c222",
   "metadata": {},
   "source": [
    "Just checking if pandas is installed and if its not then you need to run the instalation (commented code below)"
   ]
  },
  {
   "cell_type": "markdown",
   "id": "b7b1adf1",
   "metadata": {},
   "source": [
    "Make imports"
   ]
  },
  {
   "cell_type": "code",
   "execution_count": 1,
   "id": "41c90fb3",
   "metadata": {},
   "outputs": [],
   "source": [
    "import pandas as pd\n",
    "# pip install pandas"
   ]
  },
  {
   "cell_type": "markdown",
   "id": "4574e884",
   "metadata": {},
   "source": [
    "read_csv:\n",
    "\n",
    "◦ filter the rows with index 2 and 3 using the argument skiprows, we know that these observations were fake\n",
    "\n",
    "◦ filter the last 2 rows from the footer using the argument skipfooter, we know that these observations were fake too\n",
    "\n",
    "◦ assign the following names to the column: datetime, user\n",
    "\n",
    "◦ use datetime as the index column"
   ]
  },
  {
   "cell_type": "code",
   "execution_count": 2,
   "id": "f3202e06",
   "metadata": {},
   "outputs": [],
   "source": [
    "df = pd.read_csv(\"../data/feed-views.log\", sep='\\t', names=['datetime', 'user'], skiprows=[2,3], skipfooter=2, engine='python', index_col='datetime')"
   ]
  },
  {
   "cell_type": "markdown",
   "id": "eebd00ca",
   "metadata": {},
   "source": [
    "rename datetime to date_time"
   ]
  },
  {
   "cell_type": "code",
   "execution_count": 3,
   "id": "436ee885",
   "metadata": {},
   "outputs": [],
   "source": [
    "df.index.name = 'date_time'"
   ]
  },
  {
   "cell_type": "markdown",
   "id": "fc4f33b4",
   "metadata": {},
   "source": [
    "Checking fisrt five rows"
   ]
  },
  {
   "cell_type": "code",
   "execution_count": 4,
   "id": "eafe93d6",
   "metadata": {},
   "outputs": [
    {
     "data": {
      "text/html": [
       "<div>\n",
       "<style scoped>\n",
       "    .dataframe tbody tr th:only-of-type {\n",
       "        vertical-align: middle;\n",
       "    }\n",
       "\n",
       "    .dataframe tbody tr th {\n",
       "        vertical-align: top;\n",
       "    }\n",
       "\n",
       "    .dataframe thead th {\n",
       "        text-align: right;\n",
       "    }\n",
       "</style>\n",
       "<table border=\"1\" class=\"dataframe\">\n",
       "  <thead>\n",
       "    <tr style=\"text-align: right;\">\n",
       "      <th></th>\n",
       "      <th>user</th>\n",
       "    </tr>\n",
       "    <tr>\n",
       "      <th>date_time</th>\n",
       "      <th></th>\n",
       "    </tr>\n",
       "  </thead>\n",
       "  <tbody>\n",
       "    <tr>\n",
       "      <th>2020-04-17 12:01:08.463179</th>\n",
       "      <td>artem</td>\n",
       "    </tr>\n",
       "    <tr>\n",
       "      <th>2020-04-17 12:01:23.743946</th>\n",
       "      <td>artem</td>\n",
       "    </tr>\n",
       "    <tr>\n",
       "      <th>2020-04-17 12:35:52.735016</th>\n",
       "      <td>artem</td>\n",
       "    </tr>\n",
       "    <tr>\n",
       "      <th>2020-04-17 12:36:21.401412</th>\n",
       "      <td>oksana</td>\n",
       "    </tr>\n",
       "    <tr>\n",
       "      <th>2020-04-17 12:36:22.023355</th>\n",
       "      <td>oksana</td>\n",
       "    </tr>\n",
       "  </tbody>\n",
       "</table>\n",
       "</div>"
      ],
      "text/plain": [
       "                              user\n",
       "date_time                         \n",
       "2020-04-17 12:01:08.463179   artem\n",
       "2020-04-17 12:01:23.743946   artem\n",
       "2020-04-17 12:35:52.735016   artem\n",
       "2020-04-17 12:36:21.401412  oksana\n",
       "2020-04-17 12:36:22.023355  oksana"
      ]
     },
     "execution_count": 4,
     "metadata": {},
     "output_type": "execute_result"
    }
   ],
   "source": [
    "df.head()"
   ]
  },
  {
   "cell_type": "markdown",
   "id": "421aa6bf",
   "metadata": {},
   "source": [
    "Checking last five rows"
   ]
  },
  {
   "cell_type": "code",
   "execution_count": 5,
   "id": "ffabac14",
   "metadata": {},
   "outputs": [
    {
     "data": {
      "text/html": [
       "<div>\n",
       "<style scoped>\n",
       "    .dataframe tbody tr th:only-of-type {\n",
       "        vertical-align: middle;\n",
       "    }\n",
       "\n",
       "    .dataframe tbody tr th {\n",
       "        vertical-align: top;\n",
       "    }\n",
       "\n",
       "    .dataframe thead th {\n",
       "        text-align: right;\n",
       "    }\n",
       "</style>\n",
       "<table border=\"1\" class=\"dataframe\">\n",
       "  <thead>\n",
       "    <tr style=\"text-align: right;\">\n",
       "      <th></th>\n",
       "      <th>user</th>\n",
       "    </tr>\n",
       "    <tr>\n",
       "      <th>date_time</th>\n",
       "      <th></th>\n",
       "    </tr>\n",
       "  </thead>\n",
       "  <tbody>\n",
       "    <tr>\n",
       "      <th>2020-05-21 16:36:40.915488</th>\n",
       "      <td>ekaterina</td>\n",
       "    </tr>\n",
       "    <tr>\n",
       "      <th>2020-05-21 17:49:36.429237</th>\n",
       "      <td>maxim</td>\n",
       "    </tr>\n",
       "    <tr>\n",
       "      <th>2020-05-21 18:45:20.441142</th>\n",
       "      <td>valentina</td>\n",
       "    </tr>\n",
       "    <tr>\n",
       "      <th>2020-05-21 23:03:06.457819</th>\n",
       "      <td>maxim</td>\n",
       "    </tr>\n",
       "    <tr>\n",
       "      <th>2020-05-21 23:23:49.995349</th>\n",
       "      <td>pavel</td>\n",
       "    </tr>\n",
       "  </tbody>\n",
       "</table>\n",
       "</div>"
      ],
      "text/plain": [
       "                                 user\n",
       "date_time                            \n",
       "2020-05-21 16:36:40.915488  ekaterina\n",
       "2020-05-21 17:49:36.429237      maxim\n",
       "2020-05-21 18:45:20.441142  valentina\n",
       "2020-05-21 23:03:06.457819      maxim\n",
       "2020-05-21 23:23:49.995349      pavel"
      ]
     },
     "execution_count": 5,
     "metadata": {},
     "output_type": "execute_result"
    }
   ],
   "source": [
    "df.tail()"
   ]
  },
  {
   "cell_type": "markdown",
   "id": "804ad73d",
   "metadata": {},
   "source": [
    "to_csv:\n",
    "\n",
    "       ◦ use ’;’ as the delimiter\n",
    "\n",
    "       ◦ save it to a file with the name feed-views-semicolon.log"
   ]
  },
  {
   "cell_type": "code",
   "execution_count": 6,
   "id": "e5524a00",
   "metadata": {},
   "outputs": [],
   "source": [
    "df.to_csv('../data/feed-views-semicolon.log', sep=';')"
   ]
  }
 ],
 "metadata": {
  "kernelspec": {
   "display_name": "Python 3 (ipykernel)",
   "language": "python",
   "name": "python3"
  },
  "language_info": {
   "codemirror_mode": {
    "name": "ipython",
    "version": 3
   },
   "file_extension": ".py",
   "mimetype": "text/x-python",
   "name": "python",
   "nbconvert_exporter": "python",
   "pygments_lexer": "ipython3",
   "version": "3.9.10"
  }
 },
 "nbformat": 4,
 "nbformat_minor": 5
}
