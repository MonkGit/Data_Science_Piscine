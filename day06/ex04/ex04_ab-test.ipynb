{
 "cells": [
  {
   "cell_type": "code",
   "execution_count": 1,
   "id": "6acf6807",
   "metadata": {},
   "outputs": [],
   "source": [
    "import pandas as pd\n",
    "import sqlite3"
   ]
  },
  {
   "cell_type": "markdown",
   "id": "0fc85a0f",
   "metadata": {},
   "source": [
    "create a connection to the database using the library sqlite3\n"
   ]
  },
  {
   "cell_type": "code",
   "execution_count": 2,
   "id": "7c704b1e",
   "metadata": {},
   "outputs": [],
   "source": [
    "con = sqlite3.connect(\"../data/checking-logs.sqlite.sqlite_copy\")"
   ]
  },
  {
   "cell_type": "markdown",
   "id": "d9f137e5",
   "metadata": {},
   "source": [
    "using only one query for each of the groups, create two dataframes: \n",
    "test_results\n",
    "and control_results with the columns time and avg_diff and only two rows\n",
    "    \n",
    "    ◦ time should have the values: after and before\n",
    "    \n",
    "    ◦ avg_diff contains the average delta among all the users for the time period\n",
    "    before each of them made their first visit to the page and afterward\n",
    "    \n",
    "    ◦ only take into account the users that have observations before and after\n",
    "    \n",
    "    • we still are not using the lab ’project1’"
   ]
  },
  {
   "cell_type": "code",
   "execution_count": 7,
   "id": "5ae05980",
   "metadata": {},
   "outputs": [
    {
     "data": {
      "text/html": [
       "<div>\n",
       "<style scoped>\n",
       "    .dataframe tbody tr th:only-of-type {\n",
       "        vertical-align: middle;\n",
       "    }\n",
       "\n",
       "    .dataframe tbody tr th {\n",
       "        vertical-align: top;\n",
       "    }\n",
       "\n",
       "    .dataframe thead th {\n",
       "        text-align: right;\n",
       "    }\n",
       "</style>\n",
       "<table border=\"1\" class=\"dataframe\">\n",
       "  <thead>\n",
       "    <tr style=\"text-align: right;\">\n",
       "      <th></th>\n",
       "      <th>time</th>\n",
       "      <th>avg_diff</th>\n",
       "    </tr>\n",
       "  </thead>\n",
       "  <tbody>\n",
       "    <tr>\n",
       "      <th>0</th>\n",
       "      <td>after</td>\n",
       "      <td>104.6000</td>\n",
       "    </tr>\n",
       "    <tr>\n",
       "      <th>1</th>\n",
       "      <td>before</td>\n",
       "      <td>60.5625</td>\n",
       "    </tr>\n",
       "  </tbody>\n",
       "</table>\n",
       "</div>"
      ],
      "text/plain": [
       "     time  avg_diff\n",
       "0   after  104.6000\n",
       "1  before   60.5625"
      ]
     },
     "execution_count": 7,
     "metadata": {},
     "output_type": "execute_result"
    }
   ],
   "source": [
    "query = '''\n",
    "SELECT time,\n",
    "       avg(diff) AS avg_diff\n",
    "FROM (SELECT uid,\n",
    "             CAST( (JulianDay(datetime(deadlines.deadlines, 'unixepoch')) -\n",
    "                    JulianDay(test.first_commit_ts)\n",
    "                    ) * 24 as Integer\n",
    "                  ) as diff,\n",
    "             CASE WHEN test.first_commit_ts < test.first_view_ts THEN 'before'\n",
    "             ELSE 'after' END AS time\n",
    "       FROM test \n",
    "       LEFT JOIN deadlines on test.labname = deadlines.labs\n",
    "       WHERE labname <> 'project1'\n",
    "      )\n",
    "WHERE uid in (SELECT uid\n",
    "              FROM (SELECT uid,\n",
    "                           CASE WHEN test.first_commit_ts < test.first_view_ts THEN 'before'\n",
    "                           ELSE 'after' END as time\n",
    "                    FROM test\n",
    "                    LEFT JOIN deadlines ON test.labname=deadlines.labs\n",
    "                    WHERE labname <> 'project1'\n",
    "                    )\n",
    "               GROUP BY uid\n",
    "               HAVING COUNT(DISTINCT time)=2\n",
    "               )\n",
    "GROUP BY time\n",
    "'''\n",
    "test_results = pd.io.sql.read_sql(query, con)\n",
    "test_results"
   ]
  },
  {
   "cell_type": "code",
   "execution_count": 8,
   "id": "0d277e2c",
   "metadata": {},
   "outputs": [
    {
     "data": {
      "text/html": [
       "<div>\n",
       "<style scoped>\n",
       "    .dataframe tbody tr th:only-of-type {\n",
       "        vertical-align: middle;\n",
       "    }\n",
       "\n",
       "    .dataframe tbody tr th {\n",
       "        vertical-align: top;\n",
       "    }\n",
       "\n",
       "    .dataframe thead th {\n",
       "        text-align: right;\n",
       "    }\n",
       "</style>\n",
       "<table border=\"1\" class=\"dataframe\">\n",
       "  <thead>\n",
       "    <tr style=\"text-align: right;\">\n",
       "      <th></th>\n",
       "      <th>time</th>\n",
       "      <th>avg_diff</th>\n",
       "    </tr>\n",
       "  </thead>\n",
       "  <tbody>\n",
       "    <tr>\n",
       "      <th>0</th>\n",
       "      <td>after</td>\n",
       "      <td>117.636364</td>\n",
       "    </tr>\n",
       "    <tr>\n",
       "      <th>1</th>\n",
       "      <td>before</td>\n",
       "      <td>99.464286</td>\n",
       "    </tr>\n",
       "  </tbody>\n",
       "</table>\n",
       "</div>"
      ],
      "text/plain": [
       "     time    avg_diff\n",
       "0   after  117.636364\n",
       "1  before   99.464286"
      ]
     },
     "execution_count": 8,
     "metadata": {},
     "output_type": "execute_result"
    }
   ],
   "source": [
    "query = '''\n",
    "SELECT time,\n",
    "       avg(diff) AS avg_diff\n",
    "FROM (SELECT uid,\n",
    "             CAST( (JulianDay(datetime(deadlines.deadlines, 'unixepoch')) -\n",
    "                    JulianDay(control.first_commit_ts)\n",
    "                    ) * 24 as Integer\n",
    "                  ) as diff,\n",
    "             CASE WHEN control.first_commit_ts < control.first_view_ts THEN 'before'\n",
    "             ELSE 'after'\n",
    "             END AS time\n",
    "             FROM control\n",
    "             LEFT JOIN deadlines ON control.labname=deadlines.labs\n",
    "             WHERE labname <> 'project1'\n",
    "      )\n",
    "WHERE uid IN (SELECT uid\n",
    "              FROM (SELECT uid,\n",
    "                           CASE WHEN control.first_commit_ts < control.first_view_ts THEN 'before'\n",
    "                           ELSE 'after'\n",
    "                           END AS time\n",
    "                    FROM control\n",
    "                    LEFT JOIN deadlines ON control.labname=deadlines.labs\n",
    "                    WHERE labname <> 'project1'\n",
    "                    )\n",
    "              GROUP BY uid\n",
    "              HAVING COUNT(distinct time)=2\n",
    "              )\n",
    "GROUP BY time\n",
    "'''\n",
    "control_results = pd.io.sql.read_sql(query, con)\n",
    "control_results"
   ]
  },
  {
   "cell_type": "markdown",
   "id": "b655a733",
   "metadata": {},
   "source": [
    "close the connection"
   ]
  },
  {
   "cell_type": "code",
   "execution_count": 11,
   "id": "2f655385",
   "metadata": {},
   "outputs": [],
   "source": [
    "con.close()"
   ]
  }
 ],
 "metadata": {
  "kernelspec": {
   "display_name": "Python 3 (ipykernel)",
   "language": "python",
   "name": "python3"
  },
  "language_info": {
   "codemirror_mode": {
    "name": "ipython",
    "version": 3
   },
   "file_extension": ".py",
   "mimetype": "text/x-python",
   "name": "python",
   "nbconvert_exporter": "python",
   "pygments_lexer": "ipython3",
   "version": "3.9.10"
  }
 },
 "nbformat": 4,
 "nbformat_minor": 5
}
